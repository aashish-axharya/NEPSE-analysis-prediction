{
 "cells": [
  {
   "attachments": {},
   "cell_type": "markdown",
   "metadata": {},
   "source": [
    "# Importing Libraries"
   ]
  },
  {
   "cell_type": "code",
   "execution_count": 74,
   "metadata": {},
   "outputs": [],
   "source": [
    "import pandas as pd\n",
    "import numpy as np\n",
    "from sklearn.preprocessing import MinMaxScaler\n",
    "from keras.models import Sequential\n",
    "from keras.layers import Dense, LSTM\n",
    "from matplotlib import pyplot as plt"
   ]
  },
  {
   "cell_type": "code",
   "execution_count": 75,
   "metadata": {},
   "outputs": [
    {
     "data": {
      "text/html": [
       "<div>\n",
       "<style scoped>\n",
       "    .dataframe tbody tr th:only-of-type {\n",
       "        vertical-align: middle;\n",
       "    }\n",
       "\n",
       "    .dataframe tbody tr th {\n",
       "        vertical-align: top;\n",
       "    }\n",
       "\n",
       "    .dataframe thead th {\n",
       "        text-align: right;\n",
       "    }\n",
       "</style>\n",
       "<table border=\"1\" class=\"dataframe\">\n",
       "  <thead>\n",
       "    <tr style=\"text-align: right;\">\n",
       "      <th></th>\n",
       "      <th>Symbol</th>\n",
       "      <th>High</th>\n",
       "      <th>Low</th>\n",
       "      <th>Close</th>\n",
       "      <th>Date</th>\n",
       "    </tr>\n",
       "  </thead>\n",
       "  <tbody>\n",
       "    <tr>\n",
       "      <th>0</th>\n",
       "      <td>ADBL</td>\n",
       "      <td>499.0</td>\n",
       "      <td>488.0</td>\n",
       "      <td>492.0</td>\n",
       "      <td>01_01_2022</td>\n",
       "    </tr>\n",
       "    <tr>\n",
       "      <th>1</th>\n",
       "      <td>ADBL</td>\n",
       "      <td>412.0</td>\n",
       "      <td>400.1</td>\n",
       "      <td>411.0</td>\n",
       "      <td>01_02_2022</td>\n",
       "    </tr>\n",
       "    <tr>\n",
       "      <th>2</th>\n",
       "      <td>ADBL</td>\n",
       "      <td>418.0</td>\n",
       "      <td>412.0</td>\n",
       "      <td>415.0</td>\n",
       "      <td>01_03_2022</td>\n",
       "    </tr>\n",
       "    <tr>\n",
       "      <th>3</th>\n",
       "      <td>ADBL</td>\n",
       "      <td>424.0</td>\n",
       "      <td>410.0</td>\n",
       "      <td>422.0</td>\n",
       "      <td>01_04_2022</td>\n",
       "    </tr>\n",
       "    <tr>\n",
       "      <th>4</th>\n",
       "      <td>ADBL</td>\n",
       "      <td>430.0</td>\n",
       "      <td>418.0</td>\n",
       "      <td>419.0</td>\n",
       "      <td>01_05_2022</td>\n",
       "    </tr>\n",
       "  </tbody>\n",
       "</table>\n",
       "</div>"
      ],
      "text/plain": [
       "  Symbol   High    Low  Close        Date\n",
       "0   ADBL  499.0  488.0  492.0  01_01_2022\n",
       "1   ADBL  412.0  400.1  411.0  01_02_2022\n",
       "2   ADBL  418.0  412.0  415.0  01_03_2022\n",
       "3   ADBL  424.0  410.0  422.0  01_04_2022\n",
       "4   ADBL  430.0  418.0  419.0  01_05_2022"
      ]
     },
     "execution_count": 75,
     "metadata": {},
     "output_type": "execute_result"
    }
   ],
   "source": [
    "df = pd.read_csv('ADBL_main.csv')\n",
    "df.head()"
   ]
  },
  {
   "cell_type": "code",
   "execution_count": 76,
   "metadata": {},
   "outputs": [],
   "source": [
    "closedf = df.reset_index()['Close']"
   ]
  },
  {
   "attachments": {},
   "cell_type": "markdown",
   "metadata": {},
   "source": [
    "# Dropping Null values from data"
   ]
  },
  {
   "cell_type": "code",
   "execution_count": 77,
   "metadata": {},
   "outputs": [
    {
     "data": {
      "text/plain": [
       "0      492.0\n",
       "1      411.0\n",
       "2      415.0\n",
       "3      422.0\n",
       "4      419.0\n",
       "       ...  \n",
       "250    314.0\n",
       "251    314.0\n",
       "252    305.1\n",
       "253    307.0\n",
       "254    305.0\n",
       "Name: Close, Length: 255, dtype: float64"
      ]
     },
     "execution_count": 77,
     "metadata": {},
     "output_type": "execute_result"
    }
   ],
   "source": [
    "closedf = closedf.dropna()\n",
    "closedf"
   ]
  },
  {
   "cell_type": "code",
   "execution_count": 78,
   "metadata": {},
   "outputs": [
    {
     "data": {
      "text/plain": [
       "array([[7.67967146e-01],\n",
       "       [4.35318275e-01],\n",
       "       [4.51745380e-01],\n",
       "       [4.80492813e-01],\n",
       "       [4.68172485e-01],\n",
       "       [4.76386037e-01],\n",
       "       [4.76386037e-01],\n",
       "       [4.76386037e-01],\n",
       "       [5.17453799e-01],\n",
       "       [5.09240246e-01],\n",
       "       [5.08829569e-01],\n",
       "       [4.88706366e-01],\n",
       "       [5.00616016e-01],\n",
       "       [5.00616016e-01],\n",
       "       [5.00616016e-01],\n",
       "       [5.33880903e-01],\n",
       "       [5.58521561e-01],\n",
       "       [5.54414784e-01],\n",
       "       [5.25667351e-01],\n",
       "       [5.25667351e-01],\n",
       "       [5.25667351e-01],\n",
       "       [5.25667351e-01],\n",
       "       [5.14168378e-01],\n",
       "       [4.80492813e-01],\n",
       "       [4.71868583e-01],\n",
       "       [4.57494867e-01],\n",
       "       [4.59958932e-01],\n",
       "       [4.59958932e-01],\n",
       "       [4.59958932e-01],\n",
       "       [4.91581109e-01],\n",
       "       [4.80492813e-01],\n",
       "       [4.84599589e-01],\n",
       "       [4.84599589e-01],\n",
       "       [4.74743326e-01],\n",
       "       [4.74743326e-01],\n",
       "       [4.74743326e-01],\n",
       "       [4.64065708e-01],\n",
       "       [4.59958932e-01],\n",
       "       [4.59958932e-01],\n",
       "       [4.53798768e-01],\n",
       "       [4.49691992e-01],\n",
       "       [4.49691992e-01],\n",
       "       [4.49691992e-01],\n",
       "       [4.06570842e-01],\n",
       "       [4.18891170e-01],\n",
       "       [4.18480493e-01],\n",
       "       [4.10677618e-01],\n",
       "       [4.10677618e-01],\n",
       "       [4.10677618e-01],\n",
       "       [3.86036961e-01],\n",
       "       [3.98357290e-01],\n",
       "       [4.09856263e-01],\n",
       "       [3.90143737e-01],\n",
       "       [3.77823409e-01],\n",
       "       [3.77823409e-01],\n",
       "       [3.77823409e-01],\n",
       "       [3.69609856e-01],\n",
       "       [3.49075975e-01],\n",
       "       [3.49075975e-01],\n",
       "       [3.08008214e-01],\n",
       "       [3.08008214e-01],\n",
       "       [3.08008214e-01],\n",
       "       [3.08008214e-01],\n",
       "       [3.11704312e-01],\n",
       "       [3.28542094e-01],\n",
       "       [3.28542094e-01],\n",
       "       [3.24024641e-01],\n",
       "       [3.34702259e-01],\n",
       "       [3.34702259e-01],\n",
       "       [3.34702259e-01],\n",
       "       [4.02464066e-01],\n",
       "       [3.98357290e-01],\n",
       "       [3.86036961e-01],\n",
       "       [3.74537988e-01],\n",
       "       [3.74537988e-01],\n",
       "       [3.74537988e-01],\n",
       "       [3.74537988e-01],\n",
       "       [3.76180698e-01],\n",
       "       [3.72073922e-01],\n",
       "       [3.81930185e-01],\n",
       "       [3.69609856e-01],\n",
       "       [3.61396304e-01],\n",
       "       [3.61396304e-01],\n",
       "       [3.61396304e-01],\n",
       "       [3.61396304e-01],\n",
       "       [3.41273101e-01],\n",
       "       [3.32648871e-01],\n",
       "       [3.24024641e-01],\n",
       "       [3.28542094e-01],\n",
       "       [3.24845996e-01],\n",
       "       [3.24845996e-01],\n",
       "       [3.24845996e-01],\n",
       "       [3.10061602e-01],\n",
       "       [3.03901437e-01],\n",
       "       [2.94866530e-01],\n",
       "       [2.54209446e-01],\n",
       "       [2.79260780e-01],\n",
       "       [2.79260780e-01],\n",
       "       [2.79260780e-01],\n",
       "       [2.79260780e-01],\n",
       "       [2.54620123e-01],\n",
       "       [2.41478439e-01],\n",
       "       [2.54620123e-01],\n",
       "       [2.54620123e-01],\n",
       "       [2.54620123e-01],\n",
       "       [2.54620123e-01],\n",
       "       [2.71047228e-01],\n",
       "       [2.66529774e-01],\n",
       "       [2.71047228e-01],\n",
       "       [2.66940452e-01],\n",
       "       [2.66940452e-01],\n",
       "       [2.66940452e-01],\n",
       "       [2.66940452e-01],\n",
       "       [2.94045175e-01],\n",
       "       [2.99794661e-01],\n",
       "       [2.79260780e-01],\n",
       "       [2.71047228e-01],\n",
       "       [2.62833676e-01],\n",
       "       [2.62833676e-01],\n",
       "       [2.62833676e-01],\n",
       "       [2.62833676e-01],\n",
       "       [2.42299795e-01],\n",
       "       [2.42299795e-01],\n",
       "       [2.29979466e-01],\n",
       "       [2.10677618e-01],\n",
       "       [2.10677618e-01],\n",
       "       [2.10677618e-01],\n",
       "       [2.03285421e-01],\n",
       "       [2.46406571e-01],\n",
       "       [2.98562628e-01],\n",
       "       [3.24435318e-01],\n",
       "       [3.07597536e-01],\n",
       "       [3.07597536e-01],\n",
       "       [3.07597536e-01],\n",
       "       [3.07597536e-01],\n",
       "       [3.07597536e-01],\n",
       "       [2.50513347e-01],\n",
       "       [2.50513347e-01],\n",
       "       [2.49691992e-01],\n",
       "       [2.42299795e-01],\n",
       "       [2.42299795e-01],\n",
       "       [2.42299795e-01],\n",
       "       [2.25872690e-01],\n",
       "       [2.34086242e-01],\n",
       "       [2.38193018e-01],\n",
       "       [2.54620123e-01],\n",
       "       [2.45995893e-01],\n",
       "       [2.45995893e-01],\n",
       "       [2.45995893e-01],\n",
       "       [2.13552361e-01],\n",
       "       [1.93018480e-01],\n",
       "       [1.93018480e-01],\n",
       "       [1.84804928e-01],\n",
       "       [1.58110883e-01],\n",
       "       [1.58110883e-01],\n",
       "       [1.58110883e-01],\n",
       "       [1.56057495e-01],\n",
       "       [9.81519507e-02],\n",
       "       [1.19096509e-01],\n",
       "       [1.23203285e-01],\n",
       "       [1.25667351e-01],\n",
       "       [1.25667351e-01],\n",
       "       [1.25667351e-01],\n",
       "       [1.10882957e-01],\n",
       "       [9.65092402e-02],\n",
       "       [9.03490760e-02],\n",
       "       [6.57084189e-02],\n",
       "       [6.11909651e-02],\n",
       "       [6.11909651e-02],\n",
       "       [5.33880903e-02],\n",
       "       [2.29979466e-02],\n",
       "       [2.46406571e-02],\n",
       "       [2.05338809e-02],\n",
       "       [0.00000000e+00],\n",
       "       [1.02258727e-01],\n",
       "       [9.44558522e-02],\n",
       "       [1.02669405e-01],\n",
       "       [7.39219713e-02],\n",
       "       [7.39219713e-02],\n",
       "       [7.39219713e-02],\n",
       "       [3.03901437e-02],\n",
       "       [2.05338809e-02],\n",
       "       [3.12114990e-02],\n",
       "       [8.17248460e-02],\n",
       "       [1.06776181e-01],\n",
       "       [1.06776181e-01],\n",
       "       [1.14989733e-01],\n",
       "       [1.14989733e-01],\n",
       "       [1.11704312e-01],\n",
       "       [1.02669405e-01],\n",
       "       [8.62422998e-02],\n",
       "       [6.16016427e-02],\n",
       "       [6.16016427e-02],\n",
       "       [8.21355236e-02],\n",
       "       [1.10472279e-01],\n",
       "       [9.40451745e-02],\n",
       "       [9.85626283e-02],\n",
       "       [9.93839836e-02],\n",
       "       [9.85626283e-02],\n",
       "       [9.85626283e-02],\n",
       "       [1.22792608e-01],\n",
       "       [1.31416838e-01],\n",
       "       [1.23203285e-01],\n",
       "       [1.10472279e-01],\n",
       "       [9.11704312e-02],\n",
       "       [8.62422998e-02],\n",
       "       [8.62422998e-02],\n",
       "       [7.80287474e-02],\n",
       "       [7.80287474e-02],\n",
       "       [6.16016427e-02],\n",
       "       [5.74948665e-02],\n",
       "       [6.11909651e-02],\n",
       "       [6.11909651e-02],\n",
       "       [6.11909651e-02],\n",
       "       [4.96919918e-02],\n",
       "       [8.21355236e-02],\n",
       "       [7.35112936e-02],\n",
       "       [6.16016427e-02],\n",
       "       [7.39219713e-02],\n",
       "       [7.39219713e-02],\n",
       "       [7.39219713e-02],\n",
       "       [1.02669405e-01],\n",
       "       [9.44558522e-02],\n",
       "       [9.65092402e-02],\n",
       "       [1.04722793e-01],\n",
       "       [1.02669405e-01],\n",
       "       [8.45995893e-02],\n",
       "       [8.45995893e-02],\n",
       "       [7.18685832e-02],\n",
       "       [6.94045175e-02],\n",
       "       [7.02258727e-02],\n",
       "       [6.44763860e-02],\n",
       "       [1.00000000e+00],\n",
       "       [6.57084189e-02],\n",
       "       [6.16016427e-02],\n",
       "       [6.16016427e-02],\n",
       "       [6.57084189e-02],\n",
       "       [6.73511294e-02],\n",
       "       [6.57084189e-02],\n",
       "       [6.07802875e-02],\n",
       "       [5.74948665e-02],\n",
       "       [5.74948665e-02],\n",
       "       [5.74948665e-02],\n",
       "       [3.69609856e-02],\n",
       "       [3.69609856e-02],\n",
       "       [4.59958932e-02],\n",
       "       [6.57084189e-02],\n",
       "       [4.51745380e-02],\n",
       "       [4.10677618e-02],\n",
       "       [4.10677618e-02],\n",
       "       [3.69609856e-02],\n",
       "       [3.69609856e-02],\n",
       "       [4.10677618e-04],\n",
       "       [8.21355236e-03],\n",
       "       [0.00000000e+00]])"
      ]
     },
     "execution_count": 78,
     "metadata": {},
     "output_type": "execute_result"
    }
   ],
   "source": [
    "scaler = MinMaxScaler(feature_range=(0,1))\n",
    "df1 = scaler.fit_transform(np.array(closedf).reshape(-1,1))\n",
    "df1"
   ]
  },
  {
   "attachments": {},
   "cell_type": "markdown",
   "metadata": {},
   "source": [
    "# Splitting dataset into train and test split"
   ]
  },
  {
   "cell_type": "code",
   "execution_count": 79,
   "metadata": {},
   "outputs": [],
   "source": [
    "split_ratio = 0.7\n",
    "train_size=int(len(df1)*split_ratio)\n",
    "test_size=len(df1)-train_size\n",
    "train_data, test_data = df1[0:train_size,:], df1[train_size:len(df1),:]"
   ]
  },
  {
   "attachments": {},
   "cell_type": "markdown",
   "metadata": {},
   "source": [
    "# Convert the data into a sequence of past time steps and future time steps"
   ]
  },
  {
   "cell_type": "code",
   "execution_count": 80,
   "metadata": {},
   "outputs": [],
   "source": [
    "def create_dataset(data, time_steps=1):\n",
    "    x, y = [], []\n",
    "    for i in range(len(data) - time_steps - 1):\n",
    "        a = data[i:(i + time_steps), 0]\n",
    "        x.append(a)\n",
    "        y.append(data[i + time_steps, 0])\n",
    "    return np.array(x), np.array(y)"
   ]
  },
  {
   "attachments": {},
   "cell_type": "markdown",
   "metadata": {},
   "source": [
    "# Create Dataset"
   ]
  },
  {
   "cell_type": "code",
   "execution_count": 81,
   "metadata": {},
   "outputs": [],
   "source": [
    "time_steps = 60\n",
    "x_train, y_train = create_dataset(train_data, time_steps)\n",
    "x_test, y_test = create_dataset(test_data, time_steps)"
   ]
  },
  {
   "attachments": {},
   "cell_type": "markdown",
   "metadata": {},
   "source": [
    "# Reshape the data for the LSTM model"
   ]
  },
  {
   "cell_type": "code",
   "execution_count": 82,
   "metadata": {},
   "outputs": [],
   "source": [
    "x_train = np.reshape(x_train, (x_train.shape[0], 1, x_train.shape[1]))\n",
    "x_test = np.reshape(x_test, (x_test.shape[0], 1, x_test.shape[1]))"
   ]
  },
  {
   "attachments": {},
   "cell_type": "markdown",
   "metadata": {},
   "source": [
    "# Build the LSTM model"
   ]
  },
  {
   "cell_type": "code",
   "execution_count": 83,
   "metadata": {},
   "outputs": [
    {
     "name": "stdout",
     "output_type": "stream",
     "text": [
      "Model: \"sequential_4\"\n",
      "_________________________________________________________________\n",
      " Layer (type)                Output Shape              Param #   \n",
      "=================================================================\n",
      " lstm_12 (LSTM)              (None, 1, 128)            96768     \n",
      "                                                                 \n",
      " lstm_13 (LSTM)              (None, 1, 128)            131584    \n",
      "                                                                 \n",
      " lstm_14 (LSTM)              (None, 128)               131584    \n",
      "                                                                 \n",
      " dense_4 (Dense)             (None, 1)                 129       \n",
      "                                                                 \n",
      "=================================================================\n",
      "Total params: 360,065\n",
      "Trainable params: 360,065\n",
      "Non-trainable params: 0\n",
      "_________________________________________________________________\n"
     ]
    }
   ],
   "source": [
    "model = Sequential()\n",
    "model.add(LSTM(128, return_sequences=True, input_shape=(1,time_steps)))\n",
    "model.add(LSTM(128, return_sequences=True))\n",
    "model.add(LSTM(128))\n",
    "model.add(Dense(1, activation='sigmoid'))\n",
    "model.compile(loss='mean_squared_error', optimizer='adam',metrics=['accuracy'])\n",
    "model.summary()"
   ]
  },
  {
   "attachments": {},
   "cell_type": "markdown",
   "metadata": {},
   "source": [
    "# Train the model"
   ]
  },
  {
   "cell_type": "code",
   "execution_count": 84,
   "metadata": {},
   "outputs": [
    {
     "name": "stdout",
     "output_type": "stream",
     "text": [
      "Epoch 1/100\n",
      "4/4 [==============================] - 5s 292ms/step - loss: 0.0698 - accuracy: 0.0085 - val_loss: 0.2021 - val_accuracy: 0.0000e+00\n",
      "Epoch 2/100\n",
      "4/4 [==============================] - 0s 13ms/step - loss: 0.0632 - accuracy: 0.0085 - val_loss: 0.1925 - val_accuracy: 0.0000e+00\n",
      "Epoch 3/100\n",
      "4/4 [==============================] - 0s 12ms/step - loss: 0.0523 - accuracy: 0.0085 - val_loss: 0.1769 - val_accuracy: 0.0000e+00\n",
      "Epoch 4/100\n",
      "4/4 [==============================] - 0s 12ms/step - loss: 0.0338 - accuracy: 0.0085 - val_loss: 0.1518 - val_accuracy: 0.0000e+00\n",
      "Epoch 5/100\n",
      "4/4 [==============================] - 0s 13ms/step - loss: 0.0192 - accuracy: 0.0085 - val_loss: 0.1181 - val_accuracy: 0.0000e+00\n",
      "Epoch 6/100\n",
      "4/4 [==============================] - 0s 13ms/step - loss: 0.0217 - accuracy: 0.0085 - val_loss: 0.0999 - val_accuracy: 0.0000e+00\n",
      "Epoch 7/100\n",
      "4/4 [==============================] - 0s 13ms/step - loss: 0.0208 - accuracy: 0.0085 - val_loss: 0.1055 - val_accuracy: 0.0000e+00\n",
      "Epoch 8/100\n",
      "4/4 [==============================] - 0s 12ms/step - loss: 0.0163 - accuracy: 0.0085 - val_loss: 0.1156 - val_accuracy: 0.0000e+00\n",
      "Epoch 9/100\n",
      "4/4 [==============================] - 0s 13ms/step - loss: 0.0146 - accuracy: 0.0085 - val_loss: 0.1194 - val_accuracy: 0.0000e+00\n",
      "Epoch 10/100\n",
      "4/4 [==============================] - 0s 12ms/step - loss: 0.0147 - accuracy: 0.0085 - val_loss: 0.1162 - val_accuracy: 0.0000e+00\n",
      "Epoch 11/100\n",
      "4/4 [==============================] - 0s 12ms/step - loss: 0.0140 - accuracy: 0.0085 - val_loss: 0.1091 - val_accuracy: 0.0000e+00\n",
      "Epoch 12/100\n",
      "4/4 [==============================] - 0s 13ms/step - loss: 0.0129 - accuracy: 0.0085 - val_loss: 0.1006 - val_accuracy: 0.0000e+00\n",
      "Epoch 13/100\n",
      "4/4 [==============================] - 0s 12ms/step - loss: 0.0125 - accuracy: 0.0085 - val_loss: 0.0930 - val_accuracy: 0.0000e+00\n",
      "Epoch 14/100\n",
      "4/4 [==============================] - 0s 12ms/step - loss: 0.0123 - accuracy: 0.0085 - val_loss: 0.0890 - val_accuracy: 0.0000e+00\n",
      "Epoch 15/100\n",
      "4/4 [==============================] - 0s 13ms/step - loss: 0.0119 - accuracy: 0.0085 - val_loss: 0.0886 - val_accuracy: 0.0000e+00\n",
      "Epoch 16/100\n",
      "4/4 [==============================] - 0s 12ms/step - loss: 0.0114 - accuracy: 0.0085 - val_loss: 0.0884 - val_accuracy: 0.0000e+00\n",
      "Epoch 17/100\n",
      "4/4 [==============================] - 0s 13ms/step - loss: 0.0112 - accuracy: 0.0085 - val_loss: 0.0884 - val_accuracy: 0.0000e+00\n",
      "Epoch 18/100\n",
      "4/4 [==============================] - 0s 13ms/step - loss: 0.0109 - accuracy: 0.0085 - val_loss: 0.0859 - val_accuracy: 0.0000e+00\n",
      "Epoch 19/100\n",
      "4/4 [==============================] - 0s 13ms/step - loss: 0.0107 - accuracy: 0.0085 - val_loss: 0.0829 - val_accuracy: 0.0000e+00\n",
      "Epoch 20/100\n",
      "4/4 [==============================] - 0s 12ms/step - loss: 0.0104 - accuracy: 0.0085 - val_loss: 0.0794 - val_accuracy: 0.0000e+00\n",
      "Epoch 21/100\n",
      "4/4 [==============================] - 0s 12ms/step - loss: 0.0101 - accuracy: 0.0085 - val_loss: 0.0763 - val_accuracy: 0.0000e+00\n",
      "Epoch 22/100\n",
      "4/4 [==============================] - 0s 12ms/step - loss: 0.0098 - accuracy: 0.0085 - val_loss: 0.0731 - val_accuracy: 0.0000e+00\n",
      "Epoch 23/100\n",
      "4/4 [==============================] - 0s 13ms/step - loss: 0.0095 - accuracy: 0.0085 - val_loss: 0.0707 - val_accuracy: 0.0000e+00\n",
      "Epoch 24/100\n",
      "4/4 [==============================] - 0s 13ms/step - loss: 0.0092 - accuracy: 0.0085 - val_loss: 0.0681 - val_accuracy: 0.0000e+00\n",
      "Epoch 25/100\n",
      "4/4 [==============================] - 0s 12ms/step - loss: 0.0089 - accuracy: 0.0085 - val_loss: 0.0659 - val_accuracy: 0.0000e+00\n",
      "Epoch 26/100\n",
      "4/4 [==============================] - 0s 13ms/step - loss: 0.0086 - accuracy: 0.0085 - val_loss: 0.0625 - val_accuracy: 0.0000e+00\n",
      "Epoch 27/100\n",
      "4/4 [==============================] - 0s 12ms/step - loss: 0.0081 - accuracy: 0.0085 - val_loss: 0.0577 - val_accuracy: 0.0000e+00\n",
      "Epoch 28/100\n",
      "4/4 [==============================] - 0s 12ms/step - loss: 0.0077 - accuracy: 0.0085 - val_loss: 0.0534 - val_accuracy: 0.0000e+00\n",
      "Epoch 29/100\n",
      "4/4 [==============================] - 0s 13ms/step - loss: 0.0072 - accuracy: 0.0085 - val_loss: 0.0474 - val_accuracy: 0.0000e+00\n",
      "Epoch 30/100\n",
      "4/4 [==============================] - 0s 13ms/step - loss: 0.0067 - accuracy: 0.0085 - val_loss: 0.0444 - val_accuracy: 0.0000e+00\n",
      "Epoch 31/100\n",
      "4/4 [==============================] - 0s 13ms/step - loss: 0.0060 - accuracy: 0.0085 - val_loss: 0.0423 - val_accuracy: 0.0000e+00\n",
      "Epoch 32/100\n",
      "4/4 [==============================] - 0s 12ms/step - loss: 0.0055 - accuracy: 0.0085 - val_loss: 0.0364 - val_accuracy: 0.0000e+00\n",
      "Epoch 33/100\n",
      "4/4 [==============================] - 0s 13ms/step - loss: 0.0047 - accuracy: 0.0085 - val_loss: 0.0302 - val_accuracy: 0.0000e+00\n",
      "Epoch 34/100\n",
      "4/4 [==============================] - 0s 13ms/step - loss: 0.0040 - accuracy: 0.0085 - val_loss: 0.0267 - val_accuracy: 0.0000e+00\n",
      "Epoch 35/100\n",
      "4/4 [==============================] - 0s 13ms/step - loss: 0.0034 - accuracy: 0.0085 - val_loss: 0.0222 - val_accuracy: 0.0000e+00\n",
      "Epoch 36/100\n",
      "4/4 [==============================] - 0s 13ms/step - loss: 0.0027 - accuracy: 0.0085 - val_loss: 0.0173 - val_accuracy: 0.0000e+00\n",
      "Epoch 37/100\n",
      "4/4 [==============================] - 0s 13ms/step - loss: 0.0023 - accuracy: 0.0085 - val_loss: 0.0145 - val_accuracy: 0.0000e+00\n",
      "Epoch 38/100\n",
      "4/4 [==============================] - 0s 13ms/step - loss: 0.0019 - accuracy: 0.0085 - val_loss: 0.0112 - val_accuracy: 0.0000e+00\n",
      "Epoch 39/100\n",
      "4/4 [==============================] - 0s 13ms/step - loss: 0.0019 - accuracy: 0.0085 - val_loss: 0.0101 - val_accuracy: 0.0000e+00\n",
      "Epoch 40/100\n",
      "4/4 [==============================] - 0s 13ms/step - loss: 0.0019 - accuracy: 0.0085 - val_loss: 0.0082 - val_accuracy: 0.0000e+00\n",
      "Epoch 41/100\n",
      "4/4 [==============================] - 0s 13ms/step - loss: 0.0019 - accuracy: 0.0085 - val_loss: 0.0080 - val_accuracy: 0.0000e+00\n",
      "Epoch 42/100\n",
      "4/4 [==============================] - 0s 13ms/step - loss: 0.0016 - accuracy: 0.0085 - val_loss: 0.0080 - val_accuracy: 0.0000e+00\n",
      "Epoch 43/100\n",
      "4/4 [==============================] - 0s 13ms/step - loss: 0.0015 - accuracy: 0.0085 - val_loss: 0.0072 - val_accuracy: 0.0000e+00\n",
      "Epoch 44/100\n",
      "4/4 [==============================] - 0s 13ms/step - loss: 0.0015 - accuracy: 0.0085 - val_loss: 0.0077 - val_accuracy: 0.0000e+00\n",
      "Epoch 45/100\n",
      "4/4 [==============================] - 0s 13ms/step - loss: 0.0015 - accuracy: 0.0085 - val_loss: 0.0070 - val_accuracy: 0.0000e+00\n",
      "Epoch 46/100\n",
      "4/4 [==============================] - 0s 13ms/step - loss: 0.0015 - accuracy: 0.0085 - val_loss: 0.0074 - val_accuracy: 0.0000e+00\n",
      "Epoch 47/100\n",
      "4/4 [==============================] - 0s 13ms/step - loss: 0.0014 - accuracy: 0.0085 - val_loss: 0.0074 - val_accuracy: 0.0000e+00\n",
      "Epoch 48/100\n",
      "4/4 [==============================] - 0s 13ms/step - loss: 0.0013 - accuracy: 0.0085 - val_loss: 0.0069 - val_accuracy: 0.0000e+00\n",
      "Epoch 49/100\n",
      "4/4 [==============================] - 0s 13ms/step - loss: 0.0013 - accuracy: 0.0085 - val_loss: 0.0073 - val_accuracy: 0.0000e+00\n",
      "Epoch 50/100\n",
      "4/4 [==============================] - 0s 13ms/step - loss: 0.0013 - accuracy: 0.0085 - val_loss: 0.0068 - val_accuracy: 0.0000e+00\n",
      "Epoch 51/100\n",
      "4/4 [==============================] - 0s 13ms/step - loss: 0.0012 - accuracy: 0.0085 - val_loss: 0.0067 - val_accuracy: 0.0000e+00\n",
      "Epoch 52/100\n",
      "4/4 [==============================] - 0s 13ms/step - loss: 0.0012 - accuracy: 0.0085 - val_loss: 0.0063 - val_accuracy: 0.0000e+00\n",
      "Epoch 53/100\n",
      "4/4 [==============================] - 0s 13ms/step - loss: 0.0011 - accuracy: 0.0085 - val_loss: 0.0062 - val_accuracy: 0.0000e+00\n",
      "Epoch 54/100\n",
      "4/4 [==============================] - 0s 13ms/step - loss: 0.0011 - accuracy: 0.0085 - val_loss: 0.0060 - val_accuracy: 0.0000e+00\n",
      "Epoch 55/100\n",
      "4/4 [==============================] - 0s 12ms/step - loss: 0.0011 - accuracy: 0.0085 - val_loss: 0.0055 - val_accuracy: 0.0000e+00\n",
      "Epoch 56/100\n",
      "4/4 [==============================] - 0s 13ms/step - loss: 0.0011 - accuracy: 0.0085 - val_loss: 0.0056 - val_accuracy: 0.0000e+00\n",
      "Epoch 57/100\n",
      "4/4 [==============================] - 0s 13ms/step - loss: 0.0010 - accuracy: 0.0085 - val_loss: 0.0055 - val_accuracy: 0.0000e+00\n",
      "Epoch 58/100\n",
      "4/4 [==============================] - 0s 13ms/step - loss: 0.0010 - accuracy: 0.0085 - val_loss: 0.0056 - val_accuracy: 0.0000e+00\n",
      "Epoch 59/100\n",
      "4/4 [==============================] - 0s 13ms/step - loss: 0.0010 - accuracy: 0.0085 - val_loss: 0.0052 - val_accuracy: 0.0000e+00\n",
      "Epoch 60/100\n",
      "4/4 [==============================] - 0s 13ms/step - loss: 0.0010 - accuracy: 0.0085 - val_loss: 0.0054 - val_accuracy: 0.0000e+00\n",
      "Epoch 61/100\n",
      "4/4 [==============================] - 0s 15ms/step - loss: 9.5623e-04 - accuracy: 0.0085 - val_loss: 0.0053 - val_accuracy: 0.0000e+00\n",
      "Epoch 62/100\n",
      "4/4 [==============================] - 0s 13ms/step - loss: 9.5256e-04 - accuracy: 0.0085 - val_loss: 0.0050 - val_accuracy: 0.0000e+00\n",
      "Epoch 63/100\n",
      "4/4 [==============================] - 0s 13ms/step - loss: 9.3239e-04 - accuracy: 0.0085 - val_loss: 0.0050 - val_accuracy: 0.0000e+00\n",
      "Epoch 64/100\n",
      "4/4 [==============================] - 0s 13ms/step - loss: 9.1098e-04 - accuracy: 0.0085 - val_loss: 0.0048 - val_accuracy: 0.0000e+00\n",
      "Epoch 65/100\n",
      "4/4 [==============================] - 0s 13ms/step - loss: 9.2416e-04 - accuracy: 0.0085 - val_loss: 0.0049 - val_accuracy: 0.0000e+00\n",
      "Epoch 66/100\n",
      "4/4 [==============================] - 0s 13ms/step - loss: 8.9057e-04 - accuracy: 0.0085 - val_loss: 0.0045 - val_accuracy: 0.0000e+00\n",
      "Epoch 67/100\n",
      "4/4 [==============================] - 0s 13ms/step - loss: 9.0781e-04 - accuracy: 0.0085 - val_loss: 0.0049 - val_accuracy: 0.0000e+00\n",
      "Epoch 68/100\n",
      "4/4 [==============================] - 0s 15ms/step - loss: 8.8732e-04 - accuracy: 0.0085 - val_loss: 0.0043 - val_accuracy: 0.0000e+00\n",
      "Epoch 69/100\n",
      "4/4 [==============================] - 0s 14ms/step - loss: 9.2355e-04 - accuracy: 0.0085 - val_loss: 0.0048 - val_accuracy: 0.0000e+00\n",
      "Epoch 70/100\n",
      "4/4 [==============================] - 0s 13ms/step - loss: 9.7303e-04 - accuracy: 0.0085 - val_loss: 0.0041 - val_accuracy: 0.0000e+00\n",
      "Epoch 71/100\n",
      "4/4 [==============================] - 0s 13ms/step - loss: 9.4093e-04 - accuracy: 0.0085 - val_loss: 0.0045 - val_accuracy: 0.0000e+00\n",
      "Epoch 72/100\n",
      "4/4 [==============================] - 0s 13ms/step - loss: 8.7256e-04 - accuracy: 0.0085 - val_loss: 0.0041 - val_accuracy: 0.0000e+00\n",
      "Epoch 73/100\n",
      "4/4 [==============================] - 0s 14ms/step - loss: 8.3676e-04 - accuracy: 0.0085 - val_loss: 0.0043 - val_accuracy: 0.0000e+00\n",
      "Epoch 74/100\n",
      "4/4 [==============================] - 0s 14ms/step - loss: 8.3482e-04 - accuracy: 0.0085 - val_loss: 0.0041 - val_accuracy: 0.0000e+00\n",
      "Epoch 75/100\n",
      "4/4 [==============================] - 0s 15ms/step - loss: 8.0384e-04 - accuracy: 0.0085 - val_loss: 0.0039 - val_accuracy: 0.0000e+00\n",
      "Epoch 76/100\n",
      "4/4 [==============================] - 0s 17ms/step - loss: 7.9893e-04 - accuracy: 0.0085 - val_loss: 0.0039 - val_accuracy: 0.0000e+00\n",
      "Epoch 77/100\n",
      "4/4 [==============================] - 0s 17ms/step - loss: 8.2908e-04 - accuracy: 0.0085 - val_loss: 0.0039 - val_accuracy: 0.0000e+00\n",
      "Epoch 78/100\n",
      "4/4 [==============================] - 0s 17ms/step - loss: 8.0871e-04 - accuracy: 0.0085 - val_loss: 0.0037 - val_accuracy: 0.0000e+00\n",
      "Epoch 79/100\n",
      "4/4 [==============================] - 0s 14ms/step - loss: 8.0420e-04 - accuracy: 0.0085 - val_loss: 0.0037 - val_accuracy: 0.0000e+00\n",
      "Epoch 80/100\n",
      "4/4 [==============================] - 0s 16ms/step - loss: 7.7521e-04 - accuracy: 0.0085 - val_loss: 0.0036 - val_accuracy: 0.0000e+00\n",
      "Epoch 81/100\n",
      "4/4 [==============================] - 0s 16ms/step - loss: 7.5789e-04 - accuracy: 0.0085 - val_loss: 0.0036 - val_accuracy: 0.0000e+00\n",
      "Epoch 82/100\n",
      "4/4 [==============================] - 0s 13ms/step - loss: 7.6143e-04 - accuracy: 0.0085 - val_loss: 0.0037 - val_accuracy: 0.0000e+00\n",
      "Epoch 83/100\n",
      "4/4 [==============================] - 0s 13ms/step - loss: 8.2460e-04 - accuracy: 0.0085 - val_loss: 0.0034 - val_accuracy: 0.0000e+00\n",
      "Epoch 84/100\n",
      "4/4 [==============================] - 0s 13ms/step - loss: 7.5197e-04 - accuracy: 0.0085 - val_loss: 0.0036 - val_accuracy: 0.0000e+00\n",
      "Epoch 85/100\n",
      "4/4 [==============================] - 0s 13ms/step - loss: 7.4160e-04 - accuracy: 0.0085 - val_loss: 0.0032 - val_accuracy: 0.0000e+00\n",
      "Epoch 86/100\n",
      "4/4 [==============================] - 0s 17ms/step - loss: 7.8386e-04 - accuracy: 0.0085 - val_loss: 0.0034 - val_accuracy: 0.0000e+00\n",
      "Epoch 87/100\n",
      "4/4 [==============================] - 0s 15ms/step - loss: 7.2186e-04 - accuracy: 0.0085 - val_loss: 0.0031 - val_accuracy: 0.0000e+00\n",
      "Epoch 88/100\n",
      "4/4 [==============================] - 0s 14ms/step - loss: 7.1694e-04 - accuracy: 0.0085 - val_loss: 0.0035 - val_accuracy: 0.0000e+00\n",
      "Epoch 89/100\n",
      "4/4 [==============================] - 0s 13ms/step - loss: 7.7768e-04 - accuracy: 0.0085 - val_loss: 0.0030 - val_accuracy: 0.0000e+00\n",
      "Epoch 90/100\n",
      "4/4 [==============================] - 0s 13ms/step - loss: 7.8212e-04 - accuracy: 0.0085 - val_loss: 0.0032 - val_accuracy: 0.0000e+00\n",
      "Epoch 91/100\n",
      "4/4 [==============================] - 0s 13ms/step - loss: 8.0592e-04 - accuracy: 0.0085 - val_loss: 0.0032 - val_accuracy: 0.0000e+00\n",
      "Epoch 92/100\n",
      "4/4 [==============================] - 0s 14ms/step - loss: 7.6137e-04 - accuracy: 0.0085 - val_loss: 0.0030 - val_accuracy: 0.0000e+00\n",
      "Epoch 93/100\n",
      "4/4 [==============================] - 0s 13ms/step - loss: 7.2738e-04 - accuracy: 0.0085 - val_loss: 0.0030 - val_accuracy: 0.0000e+00\n",
      "Epoch 94/100\n",
      "4/4 [==============================] - 0s 17ms/step - loss: 6.9592e-04 - accuracy: 0.0085 - val_loss: 0.0030 - val_accuracy: 0.0000e+00\n",
      "Epoch 95/100\n",
      "4/4 [==============================] - 0s 13ms/step - loss: 7.3401e-04 - accuracy: 0.0085 - val_loss: 0.0029 - val_accuracy: 0.0000e+00\n",
      "Epoch 96/100\n",
      "4/4 [==============================] - 0s 13ms/step - loss: 7.0098e-04 - accuracy: 0.0085 - val_loss: 0.0029 - val_accuracy: 0.0000e+00\n",
      "Epoch 97/100\n",
      "4/4 [==============================] - 0s 13ms/step - loss: 6.7528e-04 - accuracy: 0.0085 - val_loss: 0.0027 - val_accuracy: 0.0000e+00\n",
      "Epoch 98/100\n",
      "4/4 [==============================] - 0s 14ms/step - loss: 7.1266e-04 - accuracy: 0.0085 - val_loss: 0.0030 - val_accuracy: 0.0000e+00\n",
      "Epoch 99/100\n",
      "4/4 [==============================] - 0s 14ms/step - loss: 7.4635e-04 - accuracy: 0.0085 - val_loss: 0.0025 - val_accuracy: 0.0000e+00\n",
      "Epoch 100/100\n",
      "4/4 [==============================] - 0s 14ms/step - loss: 7.2109e-04 - accuracy: 0.0085 - val_loss: 0.0029 - val_accuracy: 0.0000e+00\n"
     ]
    },
    {
     "data": {
      "text/plain": [
       "<keras.callbacks.History at 0x1efbb6b23a0>"
      ]
     },
     "execution_count": 84,
     "metadata": {},
     "output_type": "execute_result"
    }
   ],
   "source": [
    "history1 = model.fit(x_train, y_train, epochs=100, verbose=1, validation_data=(x_test, y_test))\n",
    "history1"
   ]
  },
  {
   "cell_type": "code",
   "execution_count": 85,
   "metadata": {},
   "outputs": [
    {
     "name": "stdout",
     "output_type": "stream",
     "text": [
      "1/1 [==============================] - 1s 801ms/step\n"
     ]
    }
   ],
   "source": [
    "# Test the model\n",
    "prediction_test = model.predict(x_test)\n",
    "prediction_test = scaler.inverse_transform(prediction_test)"
   ]
  },
  {
   "attachments": {},
   "cell_type": "markdown",
   "metadata": {},
   "source": [
    "# Calculate Accuracy"
   ]
  },
  {
   "cell_type": "code",
   "execution_count": 86,
   "metadata": {},
   "outputs": [
    {
     "name": "stdout",
     "output_type": "stream",
     "text": [
      "4/4 [==============================] - 0s 2ms/step - loss: 7.0576e-04 - accuracy: 0.0085\n",
      "Accuracy: 0.85\n"
     ]
    }
   ],
   "source": [
    "#calculate accuracy\n",
    "print('Accuracy: %.2f' % (model.evaluate(x_train, y_train)[1]*100))"
   ]
  },
  {
   "attachments": {},
   "cell_type": "markdown",
   "metadata": {},
   "source": [
    "# Calculate the root mean squared error"
   ]
  },
  {
   "cell_type": "code",
   "execution_count": 87,
   "metadata": {},
   "outputs": [
    {
     "name": "stdout",
     "output_type": "stream",
     "text": [
      "RMSE: 13.142611148790948\n"
     ]
    }
   ],
   "source": [
    "y_inverse = scaler.inverse_transform(y_test.reshape(-1,1))\n",
    "rmse_test = np.sqrt(np.mean(((prediction_test - y_inverse) ** 2)))\n",
    "print('RMSE:', rmse_test)"
   ]
  },
  {
   "attachments": {},
   "cell_type": "markdown",
   "metadata": {},
   "source": [
    "# Plotting Model"
   ]
  },
  {
   "cell_type": "code",
   "execution_count": 88,
   "metadata": {},
   "outputs": [
    {
     "data": {
      "image/png": "[encoded data removed]",
      "text/plain": [
       "<Figure size 640x480 with 1 Axes>"
      ]
     },
     "metadata": {},
     "output_type": "display_data"
    }
   ],
   "source": [
    "plt.plot(prediction_test, color='red', label='Predicted Price')\n",
    "actual_price = scaler.inverse_transform(y_test.reshape(-1,1))   \n",
    "plt.plot(actual_price, color='green', label='Actual Price')\n",
    "plt.title('ADBL Stock Price Prediction')\n",
    "plt.xlabel('Time')\n",
    "plt.ylabel('ADBL Stock Price')\n",
    "plt.legend()\n",
    "plt.show()\n"
   ]
  },
  {
   "attachments": {},
   "cell_type": "markdown",
   "metadata": {},
   "source": [
    "# Checking loss in model"
   ]
  },
  {
   "cell_type": "code",
   "execution_count": 89,
   "metadata": {},
   "outputs": [
    {
     "data": {
      "image/png": "[encoded data removed]",
      "text/plain": [
       "<Figure size 640x480 with 1 Axes>"
      ]
     },
     "metadata": {},
     "output_type": "display_data"
    }
   ],
   "source": [
    "plt.plot(history1.history['loss'])\n",
    "plt.plot(history1.history['val_loss'])\n",
    "plt.title('Model loss')\n",
    "plt.ylabel('Loss')\n",
    "plt.xlabel('Epoch')\n",
    "plt.show()"
   ]
  }
 ],
 "metadata": {
  "kernelspec": {
   "display_name": "fyp",
   "language": "python",
   "name": "python3"
  },
  "language_info": {
   "codemirror_mode": {
    "name": "ipython",
    "version": 3
   },
   "file_extension": ".py",
   "mimetype": "text/x-python",
   "name": "python",
   "nbconvert_exporter": "python",
   "pygments_lexer": "ipython3",
   "version": "3.9.13"
  },
  "orig_nbformat": 4,
  "vscode": {
   "interpreter": {
    "hash": "b4a4131f28b30080351a037484b1440a2babf9c92d286c4c43c853a1ca934460"
   }
  }
 },
 "nbformat": 4,
 "nbformat_minor": 2
}
